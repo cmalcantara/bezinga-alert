{
 "cells": [
  {
   "cell_type": "code",
   "execution_count": 29,
   "metadata": {},
   "outputs": [],
   "source": [
    "import winsound\n",
    "import pandas as pd\n",
    "from bs4 import BeautifulSoup\n",
    "import requests\n",
    "from collections import OrderedDict as od\n",
    "import pyttsx3\n"
   ]
  },
  {
   "cell_type": "code",
   "execution_count": 70,
   "metadata": {},
   "outputs": [
    {
     "ename": "AttributeError",
     "evalue": "'DataFrame' object has no attribute 'sort'",
     "output_type": "error",
     "traceback": [
      "\u001b[1;31m---------------------------------------------------------------------------\u001b[0m",
      "\u001b[1;31mAttributeError\u001b[0m                            Traceback (most recent call last)",
      "\u001b[1;32m~\\AppData\\Local\\Temp/ipykernel_32076/1090074210.py\u001b[0m in \u001b[0;36m<module>\u001b[1;34m\u001b[0m\n\u001b[0;32m      6\u001b[0m \u001b[1;31m#df.sort_values['Stock']\u001b[0m\u001b[1;33m\u001b[0m\u001b[1;33m\u001b[0m\u001b[0m\n\u001b[0;32m      7\u001b[0m \u001b[1;31m#stock = df['Stock'].tolist()\u001b[0m\u001b[1;33m\u001b[0m\u001b[1;33m\u001b[0m\u001b[0m\n\u001b[1;32m----> 8\u001b[1;33m \u001b[0mdf\u001b[0m\u001b[1;33m.\u001b[0m\u001b[0msort\u001b[0m\u001b[1;33m(\u001b[0m\u001b[1;34m'Stock'\u001b[0m\u001b[1;33m)\u001b[0m\u001b[1;33m\u001b[0m\u001b[1;33m\u001b[0m\u001b[0m\n\u001b[0m\u001b[0;32m      9\u001b[0m \u001b[0mdf\u001b[0m\u001b[1;33m\u001b[0m\u001b[1;33m\u001b[0m\u001b[0m\n",
      "\u001b[1;32m~\\anaconda3\\lib\\site-packages\\pandas\\core\\generic.py\u001b[0m in \u001b[0;36m__getattr__\u001b[1;34m(self, name)\u001b[0m\n\u001b[0;32m   5485\u001b[0m         ):\n\u001b[0;32m   5486\u001b[0m             \u001b[1;32mreturn\u001b[0m \u001b[0mself\u001b[0m\u001b[1;33m[\u001b[0m\u001b[0mname\u001b[0m\u001b[1;33m]\u001b[0m\u001b[1;33m\u001b[0m\u001b[1;33m\u001b[0m\u001b[0m\n\u001b[1;32m-> 5487\u001b[1;33m         \u001b[1;32mreturn\u001b[0m \u001b[0mobject\u001b[0m\u001b[1;33m.\u001b[0m\u001b[0m__getattribute__\u001b[0m\u001b[1;33m(\u001b[0m\u001b[0mself\u001b[0m\u001b[1;33m,\u001b[0m \u001b[0mname\u001b[0m\u001b[1;33m)\u001b[0m\u001b[1;33m\u001b[0m\u001b[1;33m\u001b[0m\u001b[0m\n\u001b[0m\u001b[0;32m   5488\u001b[0m \u001b[1;33m\u001b[0m\u001b[0m\n\u001b[0;32m   5489\u001b[0m     \u001b[1;32mdef\u001b[0m \u001b[0m__setattr__\u001b[0m\u001b[1;33m(\u001b[0m\u001b[0mself\u001b[0m\u001b[1;33m,\u001b[0m \u001b[0mname\u001b[0m\u001b[1;33m:\u001b[0m \u001b[0mstr\u001b[0m\u001b[1;33m,\u001b[0m \u001b[0mvalue\u001b[0m\u001b[1;33m)\u001b[0m \u001b[1;33m->\u001b[0m \u001b[1;32mNone\u001b[0m\u001b[1;33m:\u001b[0m\u001b[1;33m\u001b[0m\u001b[1;33m\u001b[0m\u001b[0m\n",
      "\u001b[1;31mAttributeError\u001b[0m: 'DataFrame' object has no attribute 'sort'"
     ]
    }
   ],
   "source": [
    "#url = \"https://www.benzinga.com/movers\"\n",
    "url = \"https://www.benzinga.com/premarket/\"\n",
    "tables = pd.read_html(url)\n",
    "#df = tables[0]\n",
    "df = tables[5]\n",
    "#df.sort_values['Stock']\n",
    "#stock = df['Stock'].tolist()\n",
    "df.sort_values('Stock')\n",
    "df"
   ]
  },
  {
   "cell_type": "code",
   "execution_count": null,
   "metadata": {},
   "outputs": [],
   "source": [
    "from datetime import datetime\n",
    "dtt = d"
   ]
  },
  {
   "cell_type": "code",
   "execution_count": 31,
   "metadata": {},
   "outputs": [],
   "source": [
    "duration = 800  # milliseconds\n",
    "freq = 440  # Hz\n",
    "winsound.Beep(freq, duration)"
   ]
  },
  {
   "cell_type": "code",
   "execution_count": 32,
   "metadata": {},
   "outputs": [],
   "source": [
    "def diff_func(df1, df2, uid, dedupe=True, labels=('df1', 'df2'), drop=[]):\n",
    "    dict_df = {labels[0]: df1, labels[1]: df2}\n",
    "    col1 = df1.columns.values.tolist()\n",
    "    col2 = df2.columns.values.tolist()\n",
    "\n",
    "    # There could be columns known to be different, hence allow user to pass this as a list to be dropped.\n",
    "    if drop:\n",
    "        print ('Ignoring columns {} in comparison.'.format(', '.join(drop)))\n",
    "        col1 = list(filter(lambda x: x not in drop, col1))\n",
    "        col2 = list(filter(lambda x: x not in drop, col2))\n",
    "        df1 = df1[col1]\n",
    "        df2 = df2[col2]\n",
    "\n",
    "\n",
    "    # Step 1 - Check if no. of columns are the same:\n",
    "    len_lr = len(col1), len(col2)\n",
    "    assert len_lr[0]==len_lr[1], \\\n",
    "    'Cannot compare frames with different number of columns: {}.'.format(len_lr)\n",
    "\n",
    "    # Step 2a - Check if the set of column headers are the same\n",
    "    #           (order doesnt matter)\n",
    "    assert set(col1)==set(col2), \\\n",
    "    'Left column headers are different from right column headers.' \\\n",
    "       +'\\n   Left orphans: {}'.format(list(set(col1)-set(col2))) \\\n",
    "       +'\\n   Right orphans: {}'.format(list(set(col2)-set(col1)))\n",
    "\n",
    "    # Step 2b - Check if the column headers are in the same order\n",
    "    if col1 != col2:\n",
    "        print ('[Note] Reordering right Dataframe...')\n",
    "        df2 = df2[col1]\n",
    "\n",
    "    # Step 3 - Check datatype are the same [Order is important]\n",
    "    if set((df1.dtypes == df2.dtypes).tolist()) - {True}:\n",
    "        print ('dtypes are not the same.')\n",
    "        df_dtypes = pd.DataFrame({labels[0]:df1.dtypes,labels[1]:df2.dtypes,'Diff':(df1.dtypes == df2.dtypes)})\n",
    "        df_dtypes = df_dtypes[df_dtypes['Diff']==False][[labels[0],labels[1],'Diff']]\n",
    "        print (df_dtypes)\n",
    "    else:\n",
    "        print ('DataType check: Passed')\n",
    "\n",
    "    # Step 4 - Check for duplicate rows\n",
    "    if dedupe:\n",
    "        for key, df in dict_df.items():\n",
    "            if df.shape[0] != df.drop_duplicates().shape[0]:\n",
    "                print(key + ': Duplicates exists, they will be dropped.')\n",
    "                dict_df[key] = df.drop_duplicates()\n",
    "\n",
    "    # Step 5 - Check for duplicate uids.\n",
    "    if type(uid)==str or type(uid)==list:\n",
    "        print ('Uniqueness check: {}'.format(uid))\n",
    "        for key, df in dict_df.items():\n",
    "            count_uid = df.shape[0]\n",
    "            count_uid_unique = df[uid].drop_duplicates().shape[0]\n",
    "            var = [0,1][count_uid_unique == df.shape[0]] #<-- Round off to the nearest integer if it is 100%\n",
    "            pct = round(100*count_uid_unique/df.shape[0], var)\n",
    "            print ('{}: {} out of {} are unique ({}%).'.format(key, count_uid_unique, count_uid, pct))\n",
    "\n",
    "    # Checks complete, begin merge. '''Remenber to dedupe, provide labels for common_no_match'''\n",
    "    dict_result = od()\n",
    "    df_merge = pd.merge(df1, df2, on=col1, how='inner')\n",
    "    if not df_merge.shape[0]:\n",
    "        print ('Error: Merged DataFrame is empty.')\n",
    "    else:\n",
    "        dict_result[labels[0]] = df1\n",
    "        dict_result[labels[1]] = df2\n",
    "        dict_result['Merge'] = df_merge\n",
    "        if type(uid)==str:\n",
    "            uid = [uid]\n",
    "\n",
    "        if type(uid)==list:\n",
    "            df1_only = df1.append(df_merge).reset_index(drop=True)\n",
    "            df1_only['Duplicated']=df1_only.duplicated(keep=False)  #keep=False, marks all duplicates as True\n",
    "            df1_only = df1_only[df1_only['Duplicated']==False]\n",
    "            df2_only = df2.append(df_merge).reset_index(drop=True)\n",
    "            df2_only['Duplicated']=df2_only.duplicated(keep=False)\n",
    "            df2_only = df2_only[df2_only['Duplicated']==False]\n",
    "\n",
    "            label = labels[0]+' or '+labels[1]\n",
    "            df_lc = df1_only.copy()\n",
    "            df_lc[label] = labels[0]\n",
    "            df_rc = df2_only.copy()\n",
    "            df_rc[label] = labels[1]\n",
    "            df_c = df_lc.append(df_rc).reset_index(drop=True)\n",
    "            df_c['Duplicated'] = df_c.duplicated(subset=uid, keep=False)\n",
    "            df_c1 = df_c[df_c['Duplicated']==True]\n",
    "            df_c1 = df_c1.drop('Duplicated', axis=1)\n",
    "            df_uc = df_c[df_c['Duplicated']==False]\n",
    "\n",
    "            df_uc_left = df_uc[df_uc[label]==labels[0]]\n",
    "            df_uc_right = df_uc[df_uc[label]==labels[1]]\n",
    "\n",
    "            dict_result[labels[0]+'_only'] = df_uc_left.drop(['Duplicated', label], axis=1)\n",
    "            dict_result[labels[1]+'_only'] = df_uc_right.drop(['Duplicated', label], axis=1)\n",
    "            dict_result['Diff'] = df_c1.sort_values(uid).reset_index(drop=True)\n",
    "\n",
    "    return dict_result"
   ]
  },
  {
   "cell_type": "code",
   "execution_count": 58,
   "metadata": {},
   "outputs": [
    {
     "name": "stdout",
     "output_type": "stream",
     "text": [
      "DataType check: Passed\n",
      "Uniqueness check: Fruits\n",
      "df1: 3 out of 3 are unique (100.0%).\n",
      "df2: 3 out of 3 are unique (100.0%).\n"
     ]
    },
    {
     "data": {
      "text/plain": [
       "['mango', 'durian']"
      ]
     },
     "execution_count": 58,
     "metadata": {},
     "output_type": "execute_result"
    }
   ],
   "source": [
    "df1 = pd.DataFrame([['apple', '1'], ['banana', 2], ['coconut',3]], columns=['Fruits','Quantity'])\n",
    "df2 = pd.DataFrame([['apple', '1'], ['mango', 3], ['durian',4]], columns=['Fruits','Quantity'])\n",
    "#df2 = pd.DataFrame([['apple', '1'], ['banana', 3], ['durian',4]], columns=['Fruits','Quantity'])\n",
    "dict1 = diff_func(df1, df2, 'Fruits')\n",
    "#dict1['df2_only']\n",
    "dfholder = dict1['df2_only']\n",
    "dfholder\n",
    "fruit = dfholder['Fruits'].tolist()\n",
    "fruit\n",
    "#bool(dict1['df2_only'].empty)"
   ]
  },
  {
   "cell_type": "code",
   "execution_count": 59,
   "metadata": {},
   "outputs": [],
   "source": [
    "engine = pyttsx3.init()\n",
    "\n",
    "#voice_num = 2\n",
    "text = fruit\n",
    "\n",
    "#voices = engine.getProperty('voices')\n",
    "#engine.setProperty('voice', voices[voice_num].id)\n",
    "\n",
    "engine.say(text)\n",
    "engine.runAndWait()"
   ]
  },
  {
   "cell_type": "code",
   "execution_count": 61,
   "metadata": {},
   "outputs": [
    {
     "data": {
      "text/plain": [
       "'marriage - gopro'"
      ]
     },
     "execution_count": 61,
     "metadata": {},
     "output_type": "execute_result"
    }
   ],
   "source": [
    "hello = 'marriage'\n",
    "bazing = 'gopro'\n",
    "amoeba = hello + ' - ' + bazing\n",
    "amoeba"
   ]
  }
 ],
 "metadata": {
  "interpreter": {
   "hash": "9555b9be6a8a13f87de7d1b7fbfd783e15351004eb1db55b677e0d8b308b3dfd"
  },
  "kernelspec": {
   "display_name": "Python 3.9.7 64-bit ('base': conda)",
   "language": "python",
   "name": "python3"
  },
  "language_info": {
   "codemirror_mode": {
    "name": "ipython",
    "version": 3
   },
   "file_extension": ".py",
   "mimetype": "text/x-python",
   "name": "python",
   "nbconvert_exporter": "python",
   "pygments_lexer": "ipython3",
   "version": "3.9.7"
  },
  "orig_nbformat": 4
 },
 "nbformat": 4,
 "nbformat_minor": 2
}
